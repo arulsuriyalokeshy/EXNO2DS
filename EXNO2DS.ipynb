{
  "cells": [
    {
      "cell_type": "code",
      "execution_count": null,
      "metadata": {
        "id": "eOTXkAVI1eZ4"
      },
      "outputs": [],
      "source": [
        "import pandas as pd\n",
        "import numpy as np\n",
        "import matplotlib.pyplot as plt\n",
        "import seaborn as sns\n",
        "dt=pd.read_csv(\"/titanic_dataset.csv\")\n",
        "dt"
      ]
    },
    {
      "cell_type": "code",
      "execution_count": null,
      "metadata": {
        "id": "JCbDXw2C1j3M"
      },
      "outputs": [],
      "source": [
        "dt.info()"
      ]
    },
    {
      "cell_type": "code",
      "execution_count": null,
      "metadata": {
        "id": "yQfFCGzq1zXC"
      },
      "outputs": [],
      "source": [
        "dt.set_index(\"PassengerId\",inplace=True)\n",
        "dt.describe()"
      ]
    },
    {
      "cell_type": "code",
      "execution_count": null,
      "metadata": {
        "id": "4NYxJPlY12OG"
      },
      "outputs": [],
      "source": [
        "dt.shape"
      ]
    },
    {
      "cell_type": "code",
      "execution_count": null,
      "metadata": {
        "id": "cR3Z2fsc2F2j"
      },
      "outputs": [],
      "source": [
        "dt[\"Survived\"].value_counts()"
      ]
    },
    {
      "cell_type": "code",
      "execution_count": null,
      "metadata": {
        "id": "vEZk7ygG2LH3"
      },
      "outputs": [],
      "source": [
        "per=(dt[\"Survived\"].value_counts()/dt.shape[0]*100).round(2)\n",
        "per"
      ]
    },
    {
      "cell_type": "code",
      "execution_count": null,
      "metadata": {
        "id": "yvI3HDW_2WcH"
      },
      "outputs": [],
      "source": [
        "sns.countplot(data=dt,x=\"Survived\")"
      ]
    },
    {
      "cell_type": "code",
      "execution_count": null,
      "metadata": {
        "id": "LETfTcJz2l3K"
      },
      "outputs": [],
      "source": [
        "dt"
      ]
    },
    {
      "cell_type": "code",
      "execution_count": null,
      "metadata": {
        "id": "YXqbo4Uc4E5g"
      },
      "outputs": [],
      "source": [
        "dt.Pclass.unique()"
      ]
    },
    {
      "cell_type": "code",
      "execution_count": null,
      "metadata": {
        "id": "EJsWUDoQ7rxB"
      },
      "outputs": [],
      "source": [
        "\n",
        "dt.rename(columns = {'Sex':'Gender'}, inplace = True)\n",
        "dt"
      ]
    },
    {
      "cell_type": "code",
      "execution_count": null,
      "metadata": {
        "id": "JAIncTl77wbF"
      },
      "outputs": [],
      "source": [
        "sns.catplot(x=\"Gender\",col=\"Survived\",kind=\"count\",data=dt,height=5,aspect=.7)"
      ]
    },
    {
      "cell_type": "code",
      "execution_count": null,
      "metadata": {},
      "outputs": [],
      "source": [
        "dt.boxplot(column=\"Age\",by=\"Survived\")"
      ]
    },
    {
      "cell_type": "code",
      "execution_count": null,
      "metadata": {
        "id": "tJl7eKDm9LYA"
      },
      "outputs": [],
      "source": [
        "sns.scatterplot(x=dt[\"Age\"],y=dt[\"Fare\"])"
      ]
    },
    {
      "cell_type": "code",
      "execution_count": null,
      "metadata": {
        "id": "WqiwcT0S9W4T"
      },
      "outputs": [],
      "source": [
        "sns.jointplot(x=\"Age\",y=\"Fare\",data=dt)"
      ]
    },
    {
      "cell_type": "code",
      "execution_count": null,
      "metadata": {
        "id": "P7CnWj-49gFk"
      },
      "outputs": [],
      "source": [
        "fig,ax1=plt.subplots(figsize=(8,5))\n",
        "pt=sns.boxplot(ax=ax1,x=\"Pclass\",y=\"Age\",hue=\"Gender\",data=dt)"
      ]
    },
    {
      "cell_type": "code",
      "execution_count": null,
      "metadata": {
        "id": "_DBtS2EJ_YgO"
      },
      "outputs": [],
      "source": [
        "sns.catplot(data=dt,col=\"Survived\",x=\"Gender\",hue=\"Pclass\",kind=\"count\")"
      ]
    },
    {
      "cell_type": "code",
      "execution_count": null,
      "metadata": {
        "id": "72863pNc_jqs"
      },
      "outputs": [],
      "source": [
        "numeric_data = dt.select_dtypes(include=[np.number])\n",
        "corr = numeric_data.corr()\n",
        "sns.heatmap(corr, annot=True)\n",
        "plt.show()"
      ]
    },
    {
      "cell_type": "code",
      "execution_count": null,
      "metadata": {},
      "outputs": [],
      "source": [
        "sns.pairplot(dt)"
      ]
    }
  ],
  "metadata": {
    "colab": {
      "provenance": []
    },
    "kernelspec": {
      "display_name": "Python 3",
      "name": "python3"
    },
    "language_info": {
      "name": "python"
    }
  },
  "nbformat": 4,
  "nbformat_minor": 0
}
